{
 "cells": [
  {
   "cell_type": "markdown",
   "metadata": {},
   "source": [
    "# Preparation"
   ]
  },
  {
   "cell_type": "code",
   "execution_count": 96,
   "metadata": {},
   "outputs": [],
   "source": [
    "import os\n",
    "import openai\n",
    "import pandas as pd\n",
    "from dotenv import load_dotenv\n",
    "from tqdm import tqdm\n",
    "import time\n",
    "import ast"
   ]
  },
  {
   "cell_type": "code",
   "execution_count": 85,
   "metadata": {},
   "outputs": [],
   "source": [
    "# Load the environment variables from the .env file\n",
    "load_dotenv()\n",
    "api_key = os.getenv(\"API_KEY\")\n",
    "\n",
    "# Set up OpenAI API credentials\n",
    "openai.api_key = api_key"
   ]
  },
  {
   "cell_type": "code",
   "execution_count": 86,
   "metadata": {},
   "outputs": [],
   "source": [
    "# Load the WN18RR test set from a the txt file available here https://github.com/villmow/datasets_knowledge_embedding/raw/master/WN18RR/text/test.txt\n",
    "wn18rr_test_set = pd.read_csv(\"test.txt\", sep=\"\\t\", header=None)\n",
    "\n",
    "# Convert the test set to a list of triplets\n",
    "test_triplets = [(triplet[0], triplet[1], triplet[2]) for triplet in wn18rr_test_set.values]\n",
    "\n",
    "# Chunk the test triplets into batches of size 50\n",
    "batch_size = 50\n",
    "num_batches = (len(test_triplets) + batch_size - 1) // batch_size\n",
    "triplet_batches = [\n",
    "    test_triplets[i * batch_size:(i + 1) * batch_size] for i in range(num_batches)\n",
    "]"
   ]
  },
  {
   "cell_type": "markdown",
   "metadata": {},
   "source": [
    "## First prompt format"
   ]
  },
  {
   "cell_type": "code",
   "execution_count": 53,
   "metadata": {},
   "outputs": [
    {
     "name": "stderr",
     "output_type": "stream",
     "text": [
      "  0%|          | 0/63 [00:00<?, ?it/s]"
     ]
    },
    {
     "name": "stderr",
     "output_type": "stream",
     "text": [
      "100%|██████████| 63/63 [25:00<00:00, 23.81s/it]\n"
     ]
    }
   ],
   "source": [
    "# Initialize lists to store responses\n",
    "responses = []\n",
    "generated_entities = []\n",
    "response_arrays = []\n",
    "\n",
    "# Open files in write mode\n",
    "file1 = open('results/responses.txt', 'w')\n",
    "file2 = open('results/generated_entities.txt', 'w')\n",
    "\n",
    "# Loop through the test triplets and make API calls to ChatGPT\n",
    "for triplet_batch in tqdm(triplet_batches):\n",
    "    prompt = 'Consider the relation prediction task, in the following lines first the entity and second the relation are separated by space. Give me all the missing entities in a single array in your answer:'\n",
    "    for triplet in triplet_batch:\n",
    "        prompt += f'\\n{triplet[0]} {triplet[1]}'\n",
    "\n",
    "    response = openai.Completion.create(\n",
    "        engine=\"gpt-3.5-turbo-instruct\",\n",
    "        prompt=prompt,\n",
    "        max_tokens=3100,  # Adjust the max tokens as per your requirements\n",
    "        n=1,  # Generate a single response\n",
    "        stop=None,  # Let ChatGPT decide when to stop the completion\n",
    "        temperature=0.6,  # Adjust the temperature as per your requirements\n",
    "    )\n",
    "    \n",
    "    # Extract the generated entity from the API response\n",
    "    generated_entity = response.choices[0].text.strip()\n",
    "    \n",
    "    responses.append(response)\n",
    "    generated_entities.append(generated_entities)\n",
    "\n",
    "    file1.write(str(response)+ '\\n')\n",
    "    file2.write(str(generated_entity)+ '\\n')\n",
    "    time.sleep(20)\n",
    "\n",
    "# Close files\n",
    "file1.close()\n",
    "file2.close()"
   ]
  },
  {
   "cell_type": "markdown",
   "metadata": {},
   "source": [
    "## Second prompt format"
   ]
  },
  {
   "cell_type": "code",
   "execution_count": 90,
   "metadata": {},
   "outputs": [
    {
     "name": "stderr",
     "output_type": "stream",
     "text": [
      "100%|██████████| 63/63 [24:54<00:00, 23.73s/it]\n"
     ]
    }
   ],
   "source": [
    "# Initialize lists to store responses\n",
    "responses2 = []\n",
    "generated_entities2 = []\n",
    "\n",
    "# Loop through the test triplets and make API calls to ChatGPT\n",
    "for triplet_batch in tqdm(triplet_batches):\n",
    "    # Open files in append mode\n",
    "    responses2_file = open('results/responses2.txt', 'a')\n",
    "    generated_entities2_file = open('results/generated_entities2.txt', 'a')\n",
    "\n",
    "    # prompt = \"Consider the relation prediction task, in the following lines the given entity comes first and the relation comes second after a space. Missing entities should have same format as given entities. Give me all the missing entities in a single array with this format:\\nmissing entities:  ['me1', 'me2', ...]\"\n",
    "    prompt = \"I have relation prediction task, consider these entities:\"\n",
    "    for triplet in triplet_batch:\n",
    "        prompt += f'\\n{triplet[0]}'\n",
    "    prompt += \"\\nAnd also these relation respectively\"\n",
    "    for triplet in triplet_batch:\n",
    "        prompt += f'\\n{triplet[1]}'\n",
    "    prompt += \"Find just missing entities (NOT THE RELATION OR OTHER FALSY WORDS!) respectively and give them to me in a single array with this format:\\nmissing entities:  ['', '', ...]\"\n",
    "\n",
    "    response = openai.Completion.create(\n",
    "        engine=\"gpt-3.5-turbo-instruct\",\n",
    "        prompt=prompt,\n",
    "        max_tokens=3100,  # Adjust the max tokens as per your requirements\n",
    "        n=1,  # Generate a single response\n",
    "        stop=None,  # Let ChatGPT decide when to stop the completion\n",
    "        temperature=0.6,  # Adjust the temperature as per your requirements\n",
    "    )\n",
    "    \n",
    "    # Extract the generated entity from the API response\n",
    "    generated_entity = response.choices[0].text.strip()\n",
    "    \n",
    "    responses2.append(response)\n",
    "    generated_entities2.append(generated_entities)\n",
    "\n",
    "    responses2_file.write(str(response)+ '\\n')\n",
    "    generated_entities2_file.write(str(generated_entity)+ '\\n')\n",
    "\n",
    "    # Close files\n",
    "    responses2_file.close()\n",
    "    generated_entities2_file.close()\n",
    "\n",
    "    # Time sleep for handling ChatGPT request rate limit\n",
    "    time.sleep(19)"
   ]
  },
  {
   "cell_type": "code",
   "execution_count": 95,
   "metadata": {},
   "outputs": [
    {
     "data": {
      "text/plain": [
       "[\"missing entities: ['call.v.03', 'blattodea.n.01', 'rickettsiaceae.n.01', 'entoprocta.n.01', 'drill.n.01', 'breadfruit.n.01', 'rest.v.02', 'transformation.n.01', 'sympathizer.n.01', 'ration.n.02', 'transfix.v.02', 'chromosome.n.01', 'surface.n.02', 'accentuation.n.01', 'lexicology.n.01', 'sensual.s.02', 'vanish.v.02', 'sophisticated.a.01', 'ski.v.01', 'brasov.n.01', 'mayhem.n.01', 'composure.n.01', 'coelenterate_family.n.01', 'sop.n.01', 'rail_technology.n.01', 'grant.n.01', 'major_premise.n.01', 'host.v.01', 'docket.v.01', 'polish.v.02', 'kilobyte.n.02', 'aggression.n.03', 'roof.n.01', 'butcher.v.01', 'play.v.26', 'york.n.01', 'system_program.n.01', 'podcast.v.01', 'crocodylidae.n.01', 'evidence.n.02', 'issue.n.02', 'canned_food.n.01', 'crosshatch.v.01', 'acronym.n.01', 'bushbuck.n.01']\",\n",
       " \"missing entities: ['basketball_court.n.01', 'zoology.n.02', 'india.n.01', 'devaluation.n.02', 'astaire.n.01', 'clearing.n.01', 'criminal_negligence.n.01', 'healthy.a.01', 'warp.n.03', 'vanish.v.02', 'carthage.n.01', 'guthrie.n.01', 'rome.n.01', 'indentation.n.03', 'leguminosae.n.01', 'read.v.03', 'vomit.n.03', 'clear.v.09']\",\n",
       " \"missing entities:  ['ridge.n.02', 'destruction.n.02', 'hovel.n.01', 'scribe.n.02', 'propel.v.01', 'service_tree.n.01', 'strike.v.01', 'collar.v.02', 'hexane.n.01', 'greece.n.01', 'pit.v.03', 'incredible.a.01', 'heaviness.n.01', 'bury.v.02', 'celtis.n.01', 'vinify.v.01', 'thomas.n.05', 'spoil.n.03', 'adjournment.n.01', 'tie.n.08', 'magnitude.n.01', 'iron_age.n.01', 'wreath.n.01', 'grip.n.04', 'helsinki.n.01', 'automobile_horn.n.01', 'badgering.n.01', 'child.n.01', 'unambiguity.n.01', 'adventurer.n.01', 'deployment.n.01', 'defensive_structure.n.01', 'plunge.v.06', 'freak.n.01', 'skimmer.n.02', 'charge.n.03', 'dard.n.01', 'cool.v.02', 'eleutherodactylus.n.01', 'femininity.n.01', 'charcoal.n.03', 'trade_name.n.01', 'undependability.n.01', 'feature.n.04', 'dress.v.09', 'hog-nosed_skunk.n.01', 'honorableness.n.01', 'compass_plant.n.02', 'turn.n.09', 'mumble.n.01']\",\n",
       " \"missing entities: ['agnatha.n.01', 'attach.v.01', 'pass.n.03', 'compositae.n.01', 'malvales.n.01', 'saponify.v.02', 'esophagus.n.01', 'treponemataceae.n.01', 'united_kingdom.n.01', 'matchmaker.n.01', 'barrel.n.02', 'plantagenet.n.01', 'totemist.n.01', 'surgical_instrument.n.01', 'unintelligent.a.01', 'call.v.25', 'epithelium.n.01', 'geology.n.01', 'asia.n.02', 'electric_refrigerator.n.01', 'declarative.a.01', 'kindle.v.01', 'sarcosomataceae.n.01', 'brother.n.02', 'philosophizing.n.01', 'prim.v.03', 'ophioglossum.n.01', 'shape.n.04', 'number.v.03', 'parody.n.01', 'sociology.n.01', 'trail.v.05', 'orchestration.n.02', 'scleroderma_flavidium.n.01', 'pinopsida.n.01', 'garden.v.01', 'germany.n.01', 'salix.n.01', 'certhiidae.n.01', 'pullback.n.02', 'mangifera.n.01', 'understand.v.02', 'being.n.01', 'open.v.01', 'coccidae.n.01', 'minniebush.n.01', 'swaggerer.n.01', 'flatness.n.04', 'admonish.v.03', 'neritid.n.01']\",\n",
       " \"missing entities: ['switch.n.05', 'enlarge.v.01', 'petroleum.n.01', 'suite.n.01', 'mouth.n.02', 'caryophyllaceae.n.01', 'arenaria.n.01', 'swiss_mountain_pine.n.01', 'androgenetic.a.01', 'folk_music.n.01', 'morocco.n.01', 'kadai.n.01', 'learner.n.01', 'come_forth.v.02', 'wheeled_vehicle.n.01', 'restore.v.05', 'cinnamon.n.02', 'stabilizer.n.02', 'unfriendliness.n.02', 'watch.v.03', 'sculpture.n.02', 'longness.n.01', 'symbolizing.n.01', 'chrysophyceae.n.01', 'engagement.n.07', 'inventor.n.01', 'fortress.n.01', 'subordinateness.n.01', 'subjugate.v.02', 'common_sense.n.01', 'modification.n.03', 'linden.n.02', 'reform.v.01', 'plantae.n.01', 'initiate.v.03', 'intractability.n.01', 'interaction.n.01', 'orate.v.01', 'sucker_punch.n.01', 'refresh.v.04', 'australian_alps.n.01', 'canoeist.n.01', 'regimentals.n.01', 'pirouette.n.01', 'papilionoideae.n.01', 'best.n.02', 'dirt.n.02', 'layer.n.01', 'deal.v.06', 'clupeidae.n.01']\",\n",
       " \"missing entities:  ['form.v.02', 'synchronize.v.03', 'new_world_warbler.n.01', 'nansen.n.01', 'detention.n.01', 'flare.n.02', 'investigation.n.02', 'solanaceae.n.01', 'comb-out.n.01', 'zambia.n.01', 'lining.n.01', 'mexico.n.01', 'spongefly.n.01', 'viverridae.n.01', 'italic.n.01', 'elect.v.01', 'rectum.n.01', 'parasympathetic_nervous_system.n.01', 'declamation.n.01', 'hairy.a.01', 'turnout.n.07', 'academy.n.01', 'internal-combustion_engine.n.01', 'transylvanian_alps.n.01', 'febrile.a.01', 'oxidize.v.02', 'trade_name.n.01', 'touch.n.01', 'extraction.n.01', 'game.n.01', 'battle_of_the_marne.n.01', 'plow.v.01', 'emit.v.02', 'wag.n.02', 'extinguish.v.04', 'righteousness.n.01', 'seal.v.02', 'devalue.v.02', 'mustelidae.n.01', 'parthenocissus.n.01', 'agent.n.01', 'deuteromycota.n.01', 'veratrum.n.01', 'earth_science.n.01', 'utah.n.01', 'dicker.v.01', 'brachychiton.n.01', 'sea_lavender.n.01', 'grama.n.01', 'lace.n.01']\",\n",
       " \"missing entities: ['categorization.n.03', 'caryocaraceae.n.01', 'swastika.n.01', 'military.n.01', 'understand.v.01', 'study.v.06', 'heterosexual.n.01', 'honshu.n.01', 'naturalization.n.02', 'lambertia.n.01', 'coherent.a.01', 'ordain.v.04', 'lie.n.01', 'gamma_globulin.n.01', 'astuteness.n.02', 'unit_of_measurement.n.01', 'tsuga.n.01', 'stop.v.03', 'ford.n.07', 'make-believe.n.02', 'abruptness.n.03', 'elate.v.01', 'compound.v.05', 'invigilator.n.01', 'spermatophyta.n.01', 'admix.v.01', 'accipitridae.n.01', 'destalinization.n.01', 'beat.v.15', 'acetanilide.n.01', 'male_reproductive_system.n.01', 'gallop.v.01', 'right_fielder.n.01', 'catabolize.v.01', 'obfuscate.v.01', 'print.v.01', 'pansexual.n.01', 'apeldoorn.n.01', 'hanker.v.01', 'elaeocarpaceae.n.01', 'energy.n.02', 'cynipidae.n.01', 'calochortus.n.01', 'gum.v.04', 'ordain.v.03', 'true_pepper.n.01', 'mire.v.02', 'international_relations_and_security_network.n.01', 'anguilliformes.n.01', 'ziphiidae.n.01']\",\n",
       " \"missing entities: ['felis.n.01', 'lansing.n.01', 'bonduc_nut.n.01', 'cirripedia.n.01', 'prussia.n.01', 'parula_warbler.n.01', 'loosening.n.02', 'shaft.n.08', 'respiratory_system.n.01', 'jurist.n.01', 'divergence.n.01', 'cagliostro.n.01', 'genus_tyrannosaurus.n.01', 'incrimination.n.01', 'gregory.n.04', 'progne.n.01', 'gymnastic_apparatus.n.01', 'cupressaceae.n.01', 'urban_viii.n.01', 'pteridaceae.n.01', 'sino-tibetan.n.01', 'powderize.v.02', 'chastise.v.01', 'reality.n.04', 'arbor.n.01', 'council.n.02', 'communication.n.01', 'rede.v.02', 'fringe.v.01', 'fish.n.01']\",\n",
       " \"missing entities: ['quibble.v.02', 'married.n.01', 'decoration.n.03', 'suppress.v.01', 'joyous.a.01', 'north_platte.n.01', 'remake.n.01', 'leiden.n.01', 'cecum.n.01', 'reference.v.01', 'tadarida.n.01', 'truth.n.05', 'squelch.v.03', 'collocate.v.02', 'item.n.03', 'certify.v.04', 'marsilea.n.01', 'elementary_geometry.n.01', 'spiny_lobster.n.02', 'assume.v.01', 'timaliidae.n.01', 'keep.v.07', 'total.v.01', 'seriola.n.01', 'clear.v.02', 'south_american_poison_toad.n.01', 'united_states.n.01', 'prunus.n.01', 'sunglasses.n.01', 'traveler.n.01', 'productive.a.01', 'barrage.n.01', 'artocarpus.n.01', 'segregate.n.01', 'drinker.n.01', 'disobedience.n.01', 'categorization.n.03', 'light.v.01', 'shiah.n.01', 'rhinencephalon.n.01', 'elimination.n.05', 'israel.n.01', 'bioweapon.n.01', 'mechanical_system.n.01', 'forge.v.02', 'capable.a.01', 'eugene.n.02', 'naive.a.01', 'naias.n.01', 'reception.n.04']\",\n",
       " \"missing entities:  ['', '', '']\",\n",
       " \"missing entities: ['crooner.n.01', 'muller.n.04', 'stavanger.n.01', 'elops.n.01', 'singer.n.01', 'agaricus.n.01', 'nagoya.n.01', 'european_union.n.01', 'deep_south.n.01', 'dasypodidae.n.01', 'rehearsal.n.01', 'hizb_ut-tahrir.n.01', 'genus_homo.n.01', 'fallboard.n.01', 'cardiopulmonary_resuscitation.n.01', 'dance.v.02', 'print.v.04', 'podiatry.n.01', 'caddo.n.02', 'defaulter.n.02']\",\n",
       " \"missing entities: ['proteaceae.n.01', 'myomorpha.n.01', 'fuller.n.02', 'stomatopod.n.01', 'identify.v.05', 'stamen.n.01', 'trade_name.n.01', 'serbia_and_montenegro.n.01', 'abrasion.n.02', 'boast.v.01', 'invitation.n.01', 'phasmida.n.01', 'tagasaste.n.01', 'prompt.v.02', 'examiner.n.02', 'maryland.n.01', 'robalo.n.01', 'fort.v.01', 'combust.v.04', 'shorthand.n.01', 'roll-on_roll-off.n.01', 'honshu.n.01', 'recourse.n.01', 'troy_pound.n.01', 'stinger.n.04', 'cream.v.01', 'tarsioidea.n.01', 'endoparasite.n.01', 'absorber.n.01', 'frequency.n.01', 'hind_leg.n.01', 'transplant.v.02', 'match.v.03', 'proof.n.04', 'comparative_negligence.n.01', 'sitting.n.01', 'naval_commander.n.01', 'vessel.n.02', 'request.n.02', 'latin.n.03', 'sloe.n.03', 'wood_rat.n.01', 'nitrify.v.01', 'africa.n.01', 'passeriformes.n.01', 'lie.v.01', 'elimination.n.01', 'puzzle.v.02', 'thaw.n.01', 'coleoptera.n.01']\",\n",
       " \"missing entities: ['disinter.v.01', 'snobbery.n.01', 'population.n.01', 'craving.n.01', 'oslo.n.01', 'major_league.n.01', 'plug.v.05', 'trope.n.01', 'beat.v.04', 'dagger.n.01', 'opposition.n.04', 'waver.n.01', 'hit.v.03', 'detect.v.01', 'distinguish.v.01', 'atrophy.v.01', 'atrial.a.01', 'scandinavia.n.02', 'lean.v.01', 'heedful.a.01', 'cinch.v.03', 'south_korea.n.01', 'blast.v.07', 'end.n.01', 'match.v.09', 'whisper.v.01', 'incompleteness.n.01', 'shrink.v.03', 'nap.n.04', 'suspect.v.01', 'genus_gerardia.n.01', 'department_of_defense.n.01', 'federate.v.02', 'anal_stage.n.01', 'moor.v.02', 'journey.n.01', 'note.v.01', 'transport.v.04', 'yiddish.n.01', 'bring.v.03', 'international_islamic_front_for_jihad_against_jews_and_crusaders.n.01', 'co-option.n.02', 'feel.v.09', 'corrupt.v.01', 'realization.n.03', 'breed.n.01', 'enter.v.01', 'information_science.n.01']\",\n",
       " \"missing entities: ['horned_viper.n.01', 'aquinas.n.01', 'accompanist.n.01', 'amenorrhea.n.01', 'orwell.n.01', 'whimper.n.01', 'pudendum.n.01', 'spinacia.n.01', 'sound_law.n.01', 'congo.n.02', 'optical_instrument.n.01', 'cephalochordata.n.01', 'israel.n.01', 'palaver.n.02', 'actual.a.01', 'deportation.n.02', 'sociology.n.01', 'color.v.04', 'iranian.a.01', 'erysimum.n.01', 'puddle.v.07', 'sainthood.n.01', 'grind_to_a_halt.v.01', 'baby_grand.n.01', 'hood.n.09', 'hizb_ut-tahrir.n.01', 'agaricaceae.n.01', 'mombasa.n.01', 'flush.v.05', 'manure.n.01', 'berry.n.02', 'curry_favor.v.01', 'wagon_wheel.n.01', 'coward.n.01', 'genus_pogonia.n.01', 'spirodela.n.01', 'demotion.n.01', 'bill.v.02', 'cuddle.n.01']\",\n",
       " \"missing entities: ['entrepreneur.n.01', 'isomerize.v.02', 'instruction.n.04', 'rwanda.n.01', 'smell.v.01', 'united_states.n.01', 'patronymic.n.01', 'ulex.n.01', 'relation.n.06', 'rhythm.n.01', 'sterculiaceae.n.01', 'signboard.n.01', 'genus_pandanus.n.01', 'film.n.05', 'pyrometer.n.01', 'winter.n.01', 'adjourn.v.02', 'day_of_the_week.n.01', 'kuwait.n.02', 'accession.n.06', 'embarrass.v.01', 'mandalay.n.01', 'primus_stove.n.01', 'timbre.n.01', 'lout.n.01', 'pitcher.n.01', 'chip.n.04', 'register.n.03', 'drum.n.06', 'change_of_location.n.01', 'standing_army.n.01', 'pyrrhocoridae.n.01', 'sparring.n.01', 'cabin_cruiser.n.01', 'tabulation.n.02', 'myofibril.n.01', 'electrical_system.n.02', 'dislocation.n.02', 'purge.v.04', 'snivel.v.03', 'compressible.a.01', 'land.v.04', 'mystify.v.02', 'scatter.n.02', 'run.n.13', 'stock.v.02', 'icon.n.01', 'capital_offense.n.01', 'leguminosae.n.01', 'plural.n.01']\",\n",
       " \"missing entities: ['distress.v.02', 'vertebrate.n.01', 'attract.v.01', 'volvocaceae.n.01', 'travel.v.01', 'hard_cheese.n.01', 'insert.v.01', 'spin.v.01', 'bean.v.01', 'realization.n.02', 'united_kingdom.n.01', 'disprove.v.01', 'bicker.n.01', 'hook.v.11', 'tickle.v.01', 'ratchet.v.01', 'chile.n.01', 'stain.n.01', 'inoculator.n.01', 'crush.v.04', 'disagreeableness.n.02', 'buy.v.03', 'seat.v.01', 'duster.n.02', 'brandenburg.n.01', 'absolutism.n.03', 'ground.v.11', 'ravel.v.01', 'capparidaceae.n.01', 'parenchyma.n.02', 'mannheim.n.01', 'claw.n.03', 'caryophyllales.n.01', 'provocative.a.01', 'syzygium.n.01', 'straggle.n.01', 'marker.n.02', 'nutritional.a.01', 'alnus.n.01', 'noose.v.02', 'satirize.v.01', 'plan_of_action.n.01', 'melopsittacus.n.01', 'decameter.n.01', 'energy.n.04', 'inclination.n.05', 'trier.n.02', 'trade.n.02', 'humanism.n.02', 'trade_name.n.01']\",\n",
       " \"missing entities:  ['indochina.n.01', 'imprecation.n.01', 'dubnium.n.01', 'final_cause.n.01', 'geography.n.01', 'reliance.n.01', 'reducing_agent.n.01', 'campanulales.n.01', 'hominidae.n.01', 'ticino.n.01', 'quechua.n.03', 'market.v.01', 'camera.n.01', 'contracture.n.01', 'thistle.n.01', 'spill.v.01', 'date.v.05', 'complaint.n.03', 'boot_camp.n.01', 'underbid.v.02', 'flat.a.05', 'obscure.v.05', 'sensitizer.n.01', 'narrative.n.01', 'peak.n.04', 'jury.n.02', 'peccary.n.01', 'african.n.01', 'browser.n.01', 'insemination.n.02', 'liliaceae.n.01', 'ranunculaceae.n.01', 'souse.v.03', 'integumentary_system.n.01', 'rationalization.n.01', 'sangaree.n.01', 'cardamom.n.01', 'mention.v.01', 'bounce.n.03', 'screening.n.01']\",\n",
       " 'missing entities: [\\'crossover.n.03\\', \\'racing_circuit.n.01\\', \\'inconsolable.a.01\\', \\'exert.v.03\\', \\'procrastinate.v.02\\', \\'confidence.n.02\\', \\'depletion.n.01\\', \\'qum.n.01\\', \\'distill.v.02\\', \\'banish.v.03\\', \\'quaternary.n.01\\', \\'evacuate.v.05\\', \\'rossbach.n.01\\', \\'fathom.n.02\\', \\'sculpt.v.02\\', \\'cowardly.a.01\\', \\'albania.n.01\\', \\'refute.v.02\\', \\'scrape.n.03\\', \\'malus.n.01\\', \\'bullet.n.01\\', \\'carangidae.n.01\\', \\'apathy.n.02\\', \\'exact.a.01\\', \\'word_division.n.01\\', \\'hermannia.n.01\\', \\'regulator.n.01\\', \\'caltha.n.01\\', \\'breast.n.02\\', \"lady\\'s_slipper.n.01\", \\'therapy.n.01\\', \\'spirit.n.02\\', \\'director.n.01\\', \\'snoop.n.01\\', \\'cycle.v.01\\', \\'forest.n.01\\', \\'incandesce.v.01\\', \\'shamanize.v.01\\', \\'develop.v.14\\', \\'representation.n.02\\', \\'alliterate.v.01\\', \\'capability.n.03\\', \\'handcart.n.01\\', \\'lard.v.01\\', \\'chorus.n.04\\', \\'polish.n.01\\']',\n",
       " \"Missing entities: ['felidae.n.01', 'rowing_club.n.01', 'belly_laugh.n.02', 'whiz.n.02', 'blanket.n.02', 'jail.n.01', 'weave.n.01', 'inclined_plane.n.01', 'gambia.n.01', 'newcastle.n.01', 'unafraid.a.01', 'muster.v.02', 'pension.n.01', 'levitate.v.01', 'wonder.n.02', 'debunk.v.01', 'thioridazine.n.01', 'pout.n.01', 'vivify.v.02', 'unsusceptibility.n.01', 'count.v.04', 'doubt.v.01', 'haemoproteidae.n.01', 'impersonate.v.02', 'organism.n.01', 'spread.v.02', 'presenter.n.02', 'gelatinize.v.02', 'bulrush.n.02', 'idiom.n.04', 'transgress.v.01', 'drenching.n.01', 'unchangeable.a.01', 'clothing.n.01', 'transplant.v.03', 'force.n.04', 'green_thumb.n.01', 'web.v.01', 'highjacker.n.01', 'amoebic.a.01', 'gorge.v.01', 'collider.n.01', 'yaw.n.01', 'hagberry_tree.n.01', 'camera.n.01']\",\n",
       " \"missing entities:  ['fluff.n.03', 'almaty.n.01', 'interior_decoration.n.01', 'salamandridae.n.01', 'iseult.n.01', 'nonresident.n.01', 'cruciferae.n.01', 'louisville.n.01', 'jab.n.01', 'hog.n.03', 'drawing.n.03', 'melon.n.02', 'heedlessness.n.02', 'land_line.n.01', 'genital_stage.n.01', 'cautery.n.01', 'ring_ouzel.n.01', 'pat.n.01']\",\n",
       " \"missing entities: ['guided_missile.n.01', 'flag.n.04', 'testimony.n.02', 'piping_guan.n.01', 'agonus.n.01', 'extortion.n.03', 'eumycota.n.01', 'cannulate.v.01', 'tidewater.n.02', 'naming.n.01', 'scallop.v.04', 'implant.v.01', 'disinvolve.v.01', 'reasonable.a.01', 'extensor_muscle.n.01', 'indoctrination.n.01', 'mind_reader.n.02', 'tear.n.01', 'ukraine.n.01', 'assertive.a.01', 'aluminum.n.01', 'mucus.n.01', 'speculator.n.01', 'orchidaceae.n.01', 'smother.v.02', 'extraordinary.a.01', 'argue.v.02', 'style.n.03', 'dissolve.v.09', 'masturbator.n.01', 'compressor.n.01', 'violator.n.01', 'prance.v.04', 'medullary_sheath.n.01', 'german_measles.n.01', 'adoration.n.02', 'counterweight.n.01', 'marginal_wood_fern.n.01', 'fund.v.04', 'propionic_acid.n.01']\",\n",
       " \"missing entities: ['black_bile.n.01', 'isospondyli.n.01', 'parabolic.a.01', 'sterilize.v.01', 'implementation.n.02', 'clink.v.01', 'merciless.a.01', 'iranian.a.01', 'sudan.n.01', 'poise.v.04', 'flannel.n.03', 'pompadour.n.02', 'sewing.n.02', 'court.n.02', 'temperature.n.01', 'tenderizer.n.01', 'sting.v.02']\",\n",
       " \"Missing entities: ['solarization.n.01', 'genus_stevia.n.01', 'league.n.03']\",\n",
       " \"missing entities: ['pouteria.n.01', 'quarrel.v.01', 'abidjan.n.01', 'astronomy.n.01', 'retire.v.10', 'ascii_character.n.01', 'siesta.n.01', 'metrify.v.01', 'accept.v.02', 'vicia.n.01', 'negligent.a.01', 'tirich_mir.n.01', 'peanut.n.01', 'cover.n.03', 'weakling.n.01', 'adulthood.n.02', 'agent.n.05', 'acrobatics.n.02', 'traverse.v.01', 'rabbet.n.01', 'dominate.v.03', 'defacement.n.01', 'crataegus.n.01', 'likeness.n.02', 'halimodendron.n.01', 'equivocation.n.03', 'box.n.06', 'compositae.n.01', 'alcoholism.n.01', 'break.n.13', 'clozapine.n.01', 'eddy.n.02', 'agitator.n.01', 'genus_architeuthis.n.01', 'gentamicin.n.01', 'passionate.a.01', 'covered_wagon.n.01', 'africa.n.01', 'tense.n.01', 'cotonou.n.01', 'world_war_i.n.01', 'echidnophaga.n.01', 'butt.n.09']\",\n",
       " \"Missing entities: ['parametric_statistic.n.01', 'white.n.11', 'signature.n.01', 'marcher.n.02', 'bar.n.15', 'crustacea.n.01', 'bow_tie.n.01', 'battlefield.n.01', 'gregory.n.01', 'profanation.n.01', 'department_of_defense.n.01', 'deck.v.02', 'helenium.n.01', 'essential.a.02', 'fill.v.04', 'addiction.n.01', 'falsehood.n.01', 'compartmentalize.v.01', 'calcify.v.04', 'crystal.n.06', 'collaborate.v.02', 'foreground.v.01', 'swan.n.01', 'designation.n.03', 'rosales.n.01', 'develop.v.15', 'beam.n.04', 'drive.n.12', 'ruminantia.n.01', 'channel_island.n.01', 'follow_through.v.02', 'exclaim.v.01', 'exclude.v.02', 'arthropoda.n.01', 'anarchy.n.01', 'change_of_magnitude.n.01', 'suffice.v.01', 'barnstormer.n.01', 'supervisory_program.n.01', 'pace.n.04', 'first_baseman.n.01', 'trade_name.n.01', 'rerun.n.01', 'morchellaceae.n.01']\",\n",
       " \"missing entities: ['aegean.n.01', 'positivist.a.01', 'mantophasmatodea.n.01', 'ovulen.n.01', 'packera.n.01', 'river_limpet.n.01', 'archaist.n.01', 'cruciferae.n.01', 'messiah.n.01', 'aves.n.01', 'scablands.n.01', 'cult.n.05', 'kinship.n.02', 'identity.n.02', 'slave.n.03', 'hermannia.n.01', 'haplopappus.n.01', 'active.a.13', 'joyful.a.01', 'gastropoda.n.01', 'namibia.n.01', 'emotional_state.n.01']\",\n",
       " \"missing entities: ['rattus.n.01', 'coleoptera.n.01', 'fremontodendron.n.01', 'generally_accepted_accounting_principles.n.01', 'brassica.n.01', 'chives.n.02', 'canoe.n.01', 'conch.n.01', 'idolization.n.02', 'ionization_chamber.n.01', 'temporary_hookup.n.01', 'government_income.n.01', 'cupressaceae.n.01', 'mile.n.01', 'phaeophyta.n.01', 'confinement.n.02', 'malcolm_x.n.01', 'forebear.n.01', 'racism.n.01', 'brunhild.n.01', 'prosecution.n.01', 'psocoptera.n.01', 'monodontidae.n.01', 'tone.v.01', 'cryptobranchidae.n.01', 'amnion.n.01', 'united_states.n.01', 'oleaceae.n.01', 'panic.n.01']\",\n",
       " \"missing entities:  ['anestrus.n.01', 'big_shellbark.n.01', 'discipline.v.01', 'fitter.n.01', 'haul.v.01', 'write.v.08', 'uniform.n.01', 'aphasmidia.n.01', 'parody.n.01', 'affectedness.n.01', 'acapulco.n.01', 'articulatory_system.n.01', 'winch.n.01', 'roentgenogram.n.01', 'organize.v.04', 'nyssaceae.n.01', 'honey_bell.n.01', 'stress.n.03', 'perfume.v.02', 'thunnus.n.01', 'document.n.01', 'subscriber.n.03', 'captivity.n.01', 'maxim.n.01', 'allow.v.03', 'servicing.n.01', 'vietnam.n.01', 'choke.n.01', 'exist.v.01', 'esophagogastric_junction.n.01', 'chordate_family.n.01', 'encephalogram.n.02', 'crown.v.01']\",\n",
       " \"missing entities:  ['mutation.n.02', 'saturnia.n.01', 'torso.n.01', 'campaign.n.03', 'slump.v.01', 'break.v.05', 'waste.v.01', 'cross.n.04', 'ranunculaceae.n.01', 'smyrnium.n.01', 'decouple.v.03', 'infiltrate.v.03', 'retardation.n.04', 'pant.v.02', 'balaenoptera.n.01', 'gramineae.n.01', 'leg.n.01', 'polygamy.n.01', 'vending.n.01', 'potentilla.n.01', 'name.v.03', 'hydrocharitaceae.n.01', 'adversary.n.01', 'earphone.n.01', 'chip.v.05', 'mouth.v.03', 'smallmouth.n.01', 'marker.n.03', 'case_history.n.01', 'umbelliferae.n.01', 'relativistic.a.01', 'greek.n.02', 'speculate.v.01', 'uxor.n.01', 'unpleasant.a.01', 'convey.v.03', 'drifting.n.01', 'separate.v.08', 'hazard.n.01', 'large_integer.n.01', 'period.n.04', 'army_officer.n.01', 'sensitize.v.04', 'make_noise.v.01', 'adornment.n.01', 'drill_master.n.01', 'shell.n.08', 'logistic_support.n.01', 'genip.n.02', 'mess.v.01']\",\n",
       " \"missing entities: ['hallucinate.v.01', 'basque_homeland_and_freedom.n.01', 'kick.v.03', 'caryophyllaceae.n.01', 'antiviral.n.01', 'plural.n.01', 'heating_system.n.01', 'tincture.n.01', 'relax.v.01']\",\n",
       " \"missing entities: ['graptophyllum.n.01', 'depiction.n.04', 'percolate.n.01', 'alliance.n.03', 'khaya.n.01', 'tympanist.n.01', 'saxe-gothea.n.01', 'independence.n.01', 'feign.v.01', 'theology.n.02', 'body.v.01', 'guangzhou.n.01', 'straggle.n.01', 'apodiformes.n.01', 'orchidaceae.n.01', 'abuser.n.01', 'reflect.v.07', 'snicker.v.01', 'saute.v.01', 'allocate.v.01', 'horseshoe_crab.n.01', 'libyan_islamic_fighting_group.n.01', 'breastplate.n.01', 'par.v.01', 'orthoptera.n.01', 'mew.n.02', 'part.n.11', 'biota.n.01', 'high_beam.n.01', 'carangidae.n.01', 'gaucho.n.01', 'halophile.n.01', 'triplicity.n.01', 'squeeze.v.02', 'solanaceae.n.01', 'center_of_mass.n.01', 'averroes.n.01', 'pentastomida.n.01', 'enliven.v.02', 'enfeeble.v.01', 'protology.n.01', 'pereskia.n.01', 'zaglossus.n.01', 'tennessee.n.01', 'distributor.n.01', 'burner.n.01', 'europe.n.01', 'emblem.n.02', 'ask.v.05', 'double.v.02']\",\n",
       " \"missing entities: ['surround.v.01', 'scale.n.05', 'mail.v.02', 'platichthys.n.01', 'implode.v.01', 'spike.v.05', 'pterodactylidae.n.01', 'uninteresting.a.01', 'autophyte.n.01', 'fold.v.01', 'raphanus.n.01', 'mexico.n.01', 'twitch.v.01', 'ulvaceae.n.01', 'genus_apatosaurus.n.01', 'united_kingdom.n.01', 'chromatography.n.01', 'hiccup.v.01', 'liberalize.v.01', 'copying.n.01', 'exuberance.n.02', 'linear_regression.n.01', 'lubricate.v.02', 'pacify.v.01', 'die.v.01', 'lector.n.01', 'isoptera.n.01', 'kingdom.n.01', 'exult.v.01', 'leptopteris.n.01', 'sadhe.n.01', 'stabber.n.01', 'battlefield.n.01', 'distinguish.v.01', 'leap.n.01', 'mechanism.n.02', 'colubridae.n.01', 'pulicaria.n.01', 'forgive.v.01', 'spice.v.01', 'unsociable.a.01', 'decision.n.01', 'psychiatrist.n.01', 'act.v.02', 'fairy_cup.n.02', 'deamination.n.01', 'ignition.n.03', 'citrullus.n.01', 'writing.n.03', 'mesomorph.n.01']\",\n",
       " \"missing entities: ['seaplane.n.01', 'finagler.n.01', 'weather_map.n.01', 'poikilotherm.n.01', 'crescendo.n.01', 'extrapolate.v.03', 'gas_shell.n.01', 'gratification.n.02', 'lygaeidae.n.01', 'new_york.n.02', 'judaism.n.02', 'abandon.v.05', 'adjust.v.01', 'debate.v.03', 'diet.n.03', 'imprison.v.01', 'accent.n.05', 'araneae.n.01', 'memorial.n.01', 'uterus.n.01', 'cannabis.n.01', 'chauvinist.n.02', 'garrison.v.01', 'unify.v.01', 'storm.v.05', 'cyperus.n.01', 'hypoglycemia.n.01', 'billion.n.03', 'develop.v.13', 'unionize.v.02', 'tug.v.03', 'foam.n.01', 'lindera.n.01', 'streisand.n.01', 'exenteration.n.01', 'tamarin.n.01', 'ranales.n.01', 'extraction.n.03', 'rye.n.02', 'penitent.a.01', 'apocynaceae.n.01', 'throughput.n.01', 'table.v.02', 'astronium.n.01', 'islamic_great_eastern_raiders-front.n.01', 'dress.v.14', 'nitrate.n.01', 'cyclopes.n.01', 'boast.v.01']\",\n",
       " \"missing entities: ['podocarpaceae.n.01', 'rhamnaceae.n.01', 'capparidaceae.n.01', 'physeter.n.01', 'lupinus.n.01', 'perodicticus.n.01', 'taiwan.n.01']\",\n",
       " \"missing entities: ['nasalization.n.01', 'sunda_islands.n.01', 'seniority.n.01', 'acarina.n.01', 'marble.n.01', 'lobbyist.n.01', 'cherry_laurel.n.01', 'catalysis.n.01', 'scincidae.n.01', 'study.v.02', 'placement.n.01', 'pilot.n.01', 'ribbon.n.01', 'thripidae.n.01', 'rosaceae.n.01', 'ornithologist.n.01', 'crucifixion.n.03', 'check.v.23', 'box.v.01', 'smash.v.01', 'eyebrow.n.01', 'digital_computer.n.01', 'particle_detector.n.01', 'chancel.n.01', 'manoeuver.v.03', 'drag.v.01', 'nervous_disorder.n.01', 'knock_on.n.01', 'ginseng.n.02', 'expatriate.v.01', 'summary_judgment.n.01', 'flotation.n.01', 'dangerous.a.01', 'effective.a.01', 'racist.n.01', 'filibuster.n.02', 'misconception.n.01', 'apply.v.02', 'centaury.n.02', 'chronology.n.02', 'dryopteridaceae.n.01', 'analyst.n.01', 'sublease.n.01', 'check.n.09', 'vanish.v.04', 'miscount.n.01', 'franciscan.a.01', 'sour.v.02', 'phaeophyta.n.01', 'palau.n.02']\",\n",
       " \"missing entities: ['doubling', 'class', 'anointed', 'lily', 'conventionalizing', 'distinguishing', 'Tampa Bay', 'chufas', 'lathyrus', 'United Kingdom', 'cyprinid', 'United Kingdom', 'cuts', 'edible fruits', 'developing', 'question', 'tenderness', 'surprises', 'Shiites', 'tails', 'repressive', 'lists', 'debilitations', 'Nuptse', 'grating', 'chariots', 'hatchways', 'kinships', 'viperid', 'smacks', 'chickpeas', 'hystricid', 'palaemons', 'Belgian sheepdog', 'masculinizing', 'images', 'breaking', 'reciprocating engines', 'ointments', 'merchant banks', 'crickets', 'exhibitionists', 'potamophis', 'anticipators', 'trifurcating', 'Peruvian balsam', 'reclining', 'explicating', 'casts', 'masturbators']\",\n",
       " \"missing entities:  ['transplant.n.03', 'genus_calamus.n.01', 'bottle_gourd.n.01', 'investigate.v.02', 'old_age.n.01', 'atomistic.a.01', 'variable.a.01', 'solo.v.01', 'condition.n.07', 'transmute.v.03', 'space.n.01', 'grandchild.n.01', 'race.v.02', 'dispatch.v.01', 'wheedle.v.01', 'earthly.a.01', 'strategist.n.01', 'extend.v.06', 'horizontal_surface.n.01', 'united_kingdom.n.01', 'backhoe.n.01', 'condense.v.07', 'slog.v.02', 'ratchet.v.01', 'plagianthus.n.01', 'serve.v.07', 'unfitness.n.01', 'poison.v.02', 'voice.n.02', 'hart.n.03', 'indicate.v.03', 'elongate.v.01', 'convert.v.06', 'canavalia.n.01', 'liliaceae.n.01', 'thicken.v.03', 'categorization.n.03', 'farrow.v.01', 'expectorate.v.02', 'hydrangeaceae.n.01', 'magnoliaceae.n.01', 'lawn_mower.n.01', 'valet.n.01', 'crier.n.03', 'anthriscus.n.01', 'draw.v.06', 'compositae.n.01', 'thylacinus.n.01', 'dawdler.n.01']\",\n",
       " \"missing entities: ['arthropodal.a.01', 'caponize.v.01', 'multiple_sclerosis.n.01', 'fleet.n.02', 'deal.v.13', 'hormone.n.01', 'onychophora.n.01', 'exabyte.n.01', 'devastation.n.03', 'measurement.n.01', 'see.v.01', 'animate.v.04', 'improvise.v.01', 'crusade.v.01', 'function.n.03', 'river.n.01', 'radiate.v.03', 'interpolate.v.02', 'accountant.n.01', 'cyclopes.n.01', 'mental_picture.n.01', 'gentian_violet.n.01', 'canopy.n.02', 'frame.v.02', 'manis.n.01', 'centralization.n.01', 'oxidise.v.02', 'plural.n.01', 'hebrew_alphabet.n.01', 'sucking.n.01', 'hyderabad.n.01', 'suidae.n.01', 'annotate.v.01', 'arabian_peninsula.n.01', 'inundate.v.02', 'torah.n.02', 'turnverein.n.01', 'ptilonorhynchus.n.01', 'avicenniaceae.n.01', 'crystallize.v.04', 'kennedia.n.01', 'disproof.n.01']\",\n",
       " \"missing entities: ['shock.v.01', 'extrapolation.n.01', 'blemish.v.02', 'conic.a.01', 'teresa.n.01', 'admonish.v.03', 'dysfunction.n.01', 'yogurt.n.01', 'hanover.n.02', 'vermiculate.v.01', 'dresser.n.03', 'persecute.v.01', 'ricochet.n.01', 'haggai.n.02', 'copenhagen.n.01', 'crime.n.01', 'denmark.n.01', 'american_elder.n.01', 'sevilla.n.01', 'carpal_bone.n.01', 'delaware.n.04', 'abstraction.n.03', 'glycoprotein.n.01', 'cuculus.n.01', 'snivel.v.01', 'spirit.n.02', 'woolly_daisy.n.01', 'kale.n.03', 'genus_carissa.n.01', 'buphthalmum.n.01', 'metrification.n.02', 'situate.v.01', 'prosecutor.n.01', 'meet.v.10', 'dispatch.n.03', 'custodianship.n.01', 'huss.n.01', 'obstructionism.n.01', 'nominate.v.01', 'military_post.n.01', 'new_mexico.n.01', 'scarecrow.n.01', 'colloquialism.n.01', 'pitch_apple.n.01', 'eleotridae.n.01', 'interpretation.n.03', 'fell.v.03', 'yardgrass.n.01', 'right_to_vote.n.01']\",\n",
       " \"missing entities: ['amoralism.n.01', 'persecute.v.01', 'automatic_pistol.n.01', 'promote.v.02', 'lower.v.01', 'dolphinfish.n.02', 'luxembourg.n.02', 'consultation.n.02', 'grand_dragon.n.01', 'fitment.n.01', 'blight.v.01', 'straight.a.02', 'linnaea.n.01', 'cabinetwork.n.02', 'ask.v.03', 'weald.n.01', 'recompense.n.02', 'ocimum.n.01', 'acculturate.v.01', 'propose.v.05', 'illuminant.n.01', 'beat.v.19', 'iridaceae.n.01', 'japan.n.02', 'circle.v.02', 'hirudinidae.n.01', 'wrestle.v.04', 'orientalist.n.01', 'point.n.25', 'reappraisal.n.01', 'chordata.n.01', 'feel.v.06', 'montia.n.01', 'icelandic.n.01', 'vesiculation.n.01', 'anacyclus.n.01', 'neglect.v.01', 'break.v.04', 'deal.n.01', 'sonar.n.01', 'rhabdomyosarcoma.n.01', 'military_court.n.01', 'lark.n.03', 'trench.n.03', 'drugstore.n.01', 'spalacidae.n.01', 'alimentary_canal.n.01', 'open.v.06', 'electronic_equipment.n.01', 'disrespect.n.01']\",\n",
       " \"missing entities: ['characidae.n.01', 'ferry.v.01', 'dip_switch.n.01', 'papilionoideae.n.01', 'mihrab.n.02', 'lepidopterist.n.01', 'outline.n.03', 'cervical_artery.n.01', 'boot.n.01', 'wangle.v.01', 'diospyros.n.01', 'pall.n.02', 'libidinal_energy.n.01', 'failure.n.05', 'relatedness.n.01', 'inferiority.n.02', 'ontario.n.02', 'knock.v.01', 'spectator.n.01', 'congo.n.01', 'respecter.n.01', 'thief.n.01', 'centaury.n.01', 'fill.v.01', 'inheritance.n.03', 'reinforcing_stimulus.n.01', 'believe.v.01', 'libya.n.01', 'ethiopia.n.01', 'introvert.n.01', 'case.n.20', 'self-propelled_vehicle.n.01', 'indian_mutiny.n.01', 'sculpt.v.01', 'implantation.n.03', 'horripilate.v.01', 'sauropoda.n.01', 'japan.n.02', 'breath.n.03', 'crayfish.n.03', 'suborder.n.01', 'tribesman.n.01', 'use.v.01', 'beater.n.02', 'nineties.n.03', 'dublin.n.01', 'classify.v.01', 'fashion.v.01', 'behaviorism.n.01']\",\n",
       " \"missing entities: ['apostatize.v.01', 'calochortus.n.01', 'phleum.n.01', 'pleiospilos.n.01', 'monetization.n.01', 'pruner.n.02', 'atonement.n.01', 'vesture.v.01', 'sewer.n.02', 'diet.n.03', 'anti.n.01', 'equilibrium.n.04']\",\n",
       " \"missing entities: ['damaliscus.n.01', 'arctostaphylos.n.01', 'acanthurus.n.01', 'bushman\\\\'s_poison.n.01', 'hylidae.n.01', 'cestidae.n.01']\",\n",
       " \"Missing entities: ['chamaeleontidae.n.01', 'prophets.n.01', 'cruciferae.n.01', 'lee.n.02']\",\n",
       " \"missing_entities: ['euphemism.n.01', 'improvisation.n.01', 'dispatch.n.01', 'show.v.01', 'nonolid_color.n.01', 'owen.n.01', 'lapp.n.01', 'climber.n.04', 'cabal.n.01', 'vein_of_penis.n.01', 'trustworthy.a.01', 'lepidochelys.n.01']\",\n",
       " \"missing entities: ['groan.v.01', 'bitterwood_tree.n.01', 'caltrop.n.01', 'enmesh.v.01', 'gesture.n.01', 'cowpens.n.01', 'slight.v.01', 'lydia.n.01', 'lauraceae.n.01', 'newman.n.02', 'language_unit.n.01', 'sulcus.n.01', 'shortener.n.01', 'felicitous.a.01', 'concrete.v.02', 'immune_system.n.01', 'chauvinism.n.01', 'salad_green.n.01', 'chinese_deity.n.01', 'acrocomia.n.01', 'scratch.v.07', 'refund.n.01', 'rhine_wine.n.01', 'darling.n.01', 'maracaibo.n.01', 'amphibious_operation.n.01', 'salviniaceae.n.01', 'hammer.n.08', 'omelet.n.01', 'breeches.n.01', 'react.v.02', 'hex.v.01', 'ophiophagus.n.01']\",\n",
       " \"missing entities: ['mullah.n.01', 'solve.v.01']\",\n",
       " \"missing entities: ['nan_ling.n.01', 'algonquian.n.01', 'nullifier.n.01']\",\n",
       " \"missing entities: ['paint.n.01', 'gerea.n.01', 'fitness.n.01', 'pull.v.01', 'kegel_exercises.n.01', 'browse.v.04', 'dactylopiidae.n.01', 'practice.v.04', 'inject.v.01', 'entrust.v.01', 'indian_ocean.n.01', 'prophesy.v.01', 'unhappiness.n.02', 'ladle.n.01', 'kilogram.n.01', 'rock.v.01', 'order.n.12', 'energy.n.05', 'atropa.n.01', 'avicenna.n.01', 'quill.n.04', 'presumption.n.03', 'character_printer.n.01', 'domestic_partner.n.01', 'chlamydia.n.02', 'america.n.02', 'whack.v.01', 'actor.n.02', 'squandermania.n.01', 'destruction.n.02', 'fire.v.03', 'defense_reutilization_and_marketing_service.n.01', 'preventive.a.02', 'retard.v.02', 'cardiac_muscle.n.01', 'may.n.01', 'light.v.01', 'detail.n.02', 'bow_leg.n.01', 'crush.n.04', 'pteridium.n.01', 'linear.a.01', 'quaker.n.02', 'virginia.n.01', 'command_processing_overhead_time.n.01', 'exsiccate.v.01', 'lexis.n.01', 'genus_amorphophallus.n.01', 'facial_hair.n.01', 'ticking.n.02']\",\n",
       " \"missing entities: ['bureau_of_justice_assistance.n.01', 'united_kingdom.n.01', 'sierra_nevada.n.01', 'interior_designer.n.01', 'clinidae.n.01', 'boot.n.01', 'perusal.n.01', 'inject.v.01', 'smell.n.05', 'reconcile.v.03', 'abhor.v.01', 'tropic.n.01', 'sass.n.01', 'arrange.v.06', 'drift.n.01', 'traverse.v.03', 'record.v.02', 'prostitute.n.01', 'react.v.01', 'withholding_tax.n.01', 'pine.n.02', 'stanton.n.01']\",\n",
       " \"missing entities: ['liberator.n.01', 'permutation.n.02', 'justification.n.01', 'deck.v.01', 'corruption.n.04', 'pride.n.02', 'riffle.v.04', 'greece.n.01', 'cakile.n.01', 'ruptiliocarpon.n.01', 'mark.n.04', 'sign.v.01', 'kick.v.01', 'bottom.n.07', 'rhythm.n.04', 'genus_hyaena.n.01', 'androgenetic.a.01', 'budget.n.02', 'discourage.v.02', 'boston.n.01', 'corrupt.v.01', 'idolatry.n.02', 'pointer.n.02', 'propaganda.n.01', 'cercis.n.01', 'serve.v.10', 'thyroid_hormone.n.01', 'impenitence.n.01', 'trepan.v.01', 'imprison.v.01', 'genus_bison.n.01', 'rarefy.v.03', 'seclude.v.01', 'lovingness.n.01', 'deriving.n.01', 'islamic_calendar.n.01', 'step_dancing.n.01', 'binary_star.n.01', 'puff.v.08', 'destruction.n.02', 'hagiographa.n.01', 'authorship.n.02', 'animalia.n.01', 'watt-hour.n.01', 'elder.n.01', 'drop.v.07', 'love.v.03', 'dilation.n.01', 'eisegesis.n.01', 'attention_deficit_disorder.n.01']\",\n",
       " \"missing entities:  ['arca.n.01', 'scaphiopus.n.01', 'alstonia.n.01', 'saxifraga.n.01', 'enterobius.n.01']\",\n",
       " \"missing entities: ['barrie.n.01', 'diabolism.n.01', 'mimeograph.n.01', 'muscadine.n.01', 'female_internal_reproductive_organ.n.01', 'compatible.a.02', 'identity.n.01', 'substitute.v.03', 'constellation.n.02', 'rocket_firing.n.01', 'capricorn.n.01', 'pas_seul.n.01', 'gelsemium.n.01', 'clown.n.02', 'dig.v.01', 'antedonidae.n.01', 'detector.n.02', 'de_mille.n.01', 'disgust.v.01', 'spill.n.01', 'marine.n.01', 'butch.n.01', 'accrete.v.01', 'theodolite.n.01', 'training.n.01', 'populus.n.01', 'kingdom.n.03', 'opening.n.03', 'break.n.11', 'heparin.n.01', 'diagnose.v.02', 'margin.n.01', 'hateful.a.01', 'ideal.n.02', 'schematize.v.01', 'anguilliformes.n.01', 'great_lakes.n.01', 'keep.v.01', 'cuculidae.n.01', 'typography.n.02', 'drain.n.01', 'point.n.06', 'synthetic.a.02', 'investigator.n.02', 'monogamist.n.01', 'caribbean.n.02', 'hyemoschus.n.01', 'stable.n.01', 'corpus_christi.n.02', 'adoption.n.01']\",\n",
       " \"missing entities:  ['guinea.n.03', 'threepence.n.01', 'disown.v.02', 'sturgeon.n.01', 'peripatidae.n.01', 'gatherer.n.01', 'agonidae.n.01', 'archipallium.n.01', 'winnings.n.01', 'lutjanidae.n.01', 'oleaceae.n.01', 'greeting.n.01', 'blurt_out.v.01', 'luck.n.03', 'partaker.n.01', 'spectate.v.01', 'discolor.v.03', 'virginia.n.01', 'adhesiveness.n.01', 'picture.n.01', 'male.a.01', 'cup.n.01', 'patent_and_trademark_office_database.n.01', 'rescuer.n.02', 'lashkar-e-omar.n.01', 'elaborate.v.01', 'stand-in.n.01', 'astragalus.n.01', 'loungewear.n.01', 'finality.n.01', 'coenzyme.n.01', 'deference.n.02', 'paralithodes.n.01', 'neutralization.n.01', 'orchidaceae.n.01', 'multivariate_analysis.n.01', 'tilletia.n.01', 'argumentation.n.02', 'false_nettle.n.01', 'telephone.n.01', 'anklet.n.02', 'hypostasis.n.04', 'submarine.v.03', 'political_unit.n.01', 'receding.n.02', 'fatalist.a.01', 'hebrides.n.01', 'cannon.n.02', 'duel.v.01', 'germany.n.01']\",\n",
       " \"missing entities: ['ciconiiformes.n.01', 'shop.v.03', 'mustelidae.n.01', 'incentive.n.01', 'fiber.n.05', 'bitterness.n.04', 'luminosity.n.01', 'bismarckian.a.01', 'compositae.n.01', 'tan.v.02', 'trade_name.n.01', 'contractor.n.01', 'circumnavigation.n.01', 'shooting.n.02', 'bomb.n.01', 'surge.v.05', 'homogenize.v.03', 'typology.n.01', 'coating.n.02', 'sit.v.01', 'cactaceae.n.01', 'husk.v.01', 'necessity.n.01', 'upstart.n.01', 'ustilaginoidea.n.01', 'pitch.n.01', 'lacquer.v.01', 'bluefish.n.01', 'beaked_salmon.n.01', 'fucaceae.n.01', 'repair.v.01', 'gusto.n.01', 'diaspididae.n.01', 'owl.n.01', 'follow.v.18', 'venesect.v.01', 'leach.n.01', 'circulate.v.02', 'interpolate.v.02', 'civilize.v.02', 'diversification.n.01', 'dekaliter.n.01', 'maul.n.01', 'blatta.n.01', 'urodella.n.01', 'translate.v.08', 'happen.v.04', 'baggage.n.01', 'discover.v.03', 'lithography.n.01']\",\n",
       " \"missing entities: ['deep_south.n.01', 'cyproheptadine.n.01', 'dazzle.v.01', 'idolize.v.01', 'sapindaceae.n.01', 'exert.v.03', 'public_speaking.n.01', 'thread.v.02', 'thicken.v.02', 'shaw.n.03', 'sower.n.01', 'relative.n.01', 'germany.n.01', 'catatonia.n.01', 'agave.n.01', 'blantyre.n.01', 'musical_instrument.n.01', 'precise.a.01', 'lunch.v.01', 'husk.v.01', 'south_korea.n.01', 'youth_culture.n.01', 'gregory.n.06', 'celestial_body.n.01', 'shutter.n.01', 'ornithischia.n.01', 'ardennes.n.01', 'fence_line.n.01', 'exuberance.n.01', 'shaft.v.01', 'kauri.n.02', 'conservation.n.01', 'fun.n.02', 'association_of_southeast_asian_nations.n.01', 'fug.n.01', 'passage.n.01', 'judder.v.01', 'silence.n.01', 'boast.n.01', 'limp.v.01', 'periwinkle.n.02', 'philanthropist.n.01', 'unfasten.v.01', 'orifice.n.01', 'pair.n.01', 'pinctada.n.01', 'ejaculate.v.02', 'habit.n.03', 'diapensiaceae.n.01', 'haliaeetus.n.01']\",\n",
       " \"missing entities: ['receive.v.13', 'circumscribe.v.03', 'permutability.n.01', 'adapt.v.01', 'fentanyl.n.01', 'scaremonger.n.01', 'ohio.n.01', 'johnnycake.n.01', 'united_states_navy.n.01', 'grind_to_a_halt.v.01', 'ill-being.n.01', 'seed.v.05', 'experiment.n.01', 'lactophrys.n.01', 'water_pistol.n.01', 'goggle.v.01', 'stealth.n.01', 'union.n.11', 'stumble.v.01', 'connect.v.06', 'anuran.a.01', 'assertive.a.01', 'trainee.n.01', 'draw.v.23', 'degree.n.06', 'breed.n.01', 'demonstration.n.05', 'scolytidae.n.01', 'tax.v.01', 'united_kingdom.n.01', 'conference.n.01', 'retrench.v.02', 'sounding_board.n.02', 'pseudomonodaceae.n.01', 'medical_care.n.01', 'devalue.v.02', 'fling.v.01', 'ghanian.n.01', 'mindfulness.n.01', 'coccus.n.01', 'ferry.v.03', 'cercis.n.01', 'meeting.n.04', 'grammatical_category.n.01', 'culminate.v.03', 'irish.n.02', 'crystal.n.02', 'gloss.v.03', 'frequent.a.01', 'graduate_school.n.01']\",\n",
       " \"missing entities: ['peltandra.n.01', 'deparia.n.01', 'spleen.n.01', 'rosewood.n.02', 'marshall.n.02', 'extinction.n.06', 'defamer.n.01', 'hugo.n.01', 'descent.n.01', 'united_states.n.01', 'building.n.01', 'plant_fiber.n.01', 'couple.n.04', 'rejection.n.01', 'candor.n.02', 'trudge.n.01', 'mauritanian.n.01', 'utility.n.02', 'dispatcher.n.02', 'deformation.n.02', 'sexual_assault.n.01', 'papilionoideae.n.01', 'laity.n.01', 'settlement.n.06', 'stomach.n.01', 'elapse.v.01']\",\n",
       " \"missing entities: ['work_animal.n.01', 'merginae.n.01', 'homoptera.n.01', 'axial_rotation.n.01', 'alexandria.n.02', 'respondent.n.02', 'nail.n.02', 'bankrupt.n.01', 'absorptivity.n.01', 'abate.v.02', 'desire.v.01', 'demist.v.01', 'byrd.n.02', 'novice.n.02', 'learned_reaction.n.01', 'muscular_structure.n.01', 'city.n.01', 'archosauria.n.01', 'word_picture.n.01', 'club.n.02', 'stizostedion.n.01', 'golf-club_head.n.01', 'mississippi.n.01', 'africa.n.01', 'turnover.n.02', 'pique.n.02', 'tee.n.03', 'brawler.n.01', 'sorghum.n.01']\",\n",
       " \"missing entities: ['surveillance.n.01', 'alleviation.n.01', 'countryside.n.01', 'hieracium.n.01', 'supplication.n.01', 'infringement.n.01', 'perversion.n.01', 'tremor.n.01', 'dysfunction.n.01', 'reconnaissance.n.01', 'impairment.n.01', 'manipulation.n.01', 'retribution.n.01', 'carnivore.n.01', 'dissimulation.n.01', 'murmur.n.01', 'deceptive.a.01', 'enlistment.n.01', 'vocalization.n.01', 'suffocation.n.01', 'constriction.n.01', 'intimidation.n.01', 'devotion.n.01', 'disobedience.n.01', 'affection.n.01', 'progeny.n.01', 'mutation.n.01', 'infiltration.n.01', 'revelation.n.01', 'allusion.n.01', 'interference.n.01', 'revelry.n.01', 'subjugation.n.01', 'concealment.n.01', 'denial.n.01', 'reconciliation.n.01', 'deterioration.n.01', 'regeneration.n.01', 'suppression.n.01', 'disruption.n.01', 'incursion.n.01', 'invasion.n.01', 'disintegration.n.01', 'manipulator.n.01', 'infringer.n.01', 'manipulative.a.01', 'suppressor.n.01', 'concealer.n.01', 'denier.n.01', 'regenerator.n.01', 'disrupter.n.01', 'invasionist.n.01', 'infiltrator.n.01', 'deceiver.n.01', 'suffocator.n.01', 'intimidator.n.01', 'mutator.n.01', 'devotee.n.01', 'disobeyer.n.01', 'affectionate.a.01', 'progenitor.n.01', 'deceptive.n.01', 'mutationist.n.01', 'manipulationist.n.01', 'retributionist.n.01', 'subjugator.n.01', 'concealer.n.01', 'denier.n.01', 'reconciler.n.01', 'deteriorator.n.01', 'regenerator.n.01', 'suppressor.n.01', 'disrupter.n.01', 'incursionist.n.01', 'invasionist.n.01', 'disintegrator.n.01', 'manipulator.n.01', 'infringer.n.01', 'manipulative.a.01', 'suppressor.n.01', 'concealer.n.01', 'denier.n.01', 'regenerator.n.01', 'disrupter.n.01', 'invasionist.n.01', 'infiltrator.n.01', 'deceiver.n.01', 'suffocator.n.01', 'intimidator.n.01', 'mutator.n.01', 'devotee.n.01', 'disobeyer.n.01', 'affectionate.a.01', 'progenitor.n.01', 'deceptive.n.01', 'mutationist.n.01', 'manipulationist.n.01', 'retributionist.n.01', 'subjugator.n.01', 'concealer.n.01', 'denier.n.01', 'reconciler.n.01', 'deteriorator.n.01', 'regenerator.n.01', 'suppressor.n.01', 'disrupter.n.01', 'incursionist.n.01', 'invasionist.n.01', 'disintegrator.n.01', 'manipulator.n.01', 'infringer.n.01', 'manipulative.a.01', 'suppressor.n.01', 'concealer.n.01', 'denier.n.01', 'regenerator.n.01', 'disrupter.n.01', 'invasionist.n.01', 'infiltrator.n.01', 'deceiver.n.01', 'suffocator.n.01', 'intimidator.n.01', 'mutator.n.01', 'devotee.n.01', 'disobeyer.n.01', 'affectionate.a.01', 'progenitor.n.01', 'deceptive.n.01', 'mutationist.n.01', 'manipulationist.n.01', 'retributionist.n.01', 'subjugator.n.01', 'concealer.n.01', 'denier.n.01', 'reconciler.n.01', 'deteriorator.n.01', 'regenerator.n.01', 'suppressor.n.01', 'disrupter.n.01', 'incursionist.n.01', 'invasionist.n.01', 'disintegrator.n.01', 'manipulator.n.01', 'infringer.n.01', 'manipulative.a.01', 'suppressor.n.01', 'concealer.n.01', 'denier.n.01', 'regenerator.n.01', 'disrupter.n.01', 'invasionist.n.01', 'infiltrator.n.01', 'deceiver.n.01', 'suffocator.n.01', 'intimidator.n.01', 'mutator.n.01', 'devotee.n.01', 'disobeyer.n.01', 'affectionate.a.01', 'progenitor.n.01', 'deceptive.n.01', 'mutationist.n.01', 'manipulationist.n.01', 'retributionist.n.01', 'subjugator.n.01', 'concealer.n.01', 'denier.n.01', 'reconciler.n.01', 'deteriorator.n.01', 'regenerator.n.01', 'suppressor.n.01', 'disrupter.n.01', 'incursionist.n.01', 'invasionist.n.01', 'disintegrator.n.01', 'manipulator.n.01', 'infringer.n.01', 'manipulative.a.01', 'suppressor.n.01', 'concealer.n.01', 'denier.n.01', 'regenerator.n.01', 'disrupter.n.01', 'invasionist.n.01', 'infiltrator.n.01', 'deceiver.n.01', 'suffocator.n.01', 'intimidator.n.01', 'mutator.n.01', 'devotee.n.01', 'disobeyer.n.01', 'affectionate.a.01', 'progenitor.n.01', 'deceptive.n.01', 'mutationist.n.01', 'manipulationist.n.01', 'retributionist.n.01', 'subjugator.n.01', 'concealer.n.01', 'denier.n.01', 'reconciler.n.01', 'deteriorator.n.01', 'regenerator.n.01', 'suppressor.n.01', 'disrupter.n.01', 'incursionist.n.01', 'invasionist.n.01', 'disintegrator.n.01', 'manipulator.n.01', 'infringer.n.01', 'manipulative.a.01', 'suppressor.n.01', 'concealer.n.01', 'denier.n.01', 'regenerator.n.01', 'disrupter.n.01', 'invasionist.n.01', 'infiltrator.n.01', 'deceiver.n.01', 'suffocator.n.01', 'intimidator.n.01', 'mutator.n.01', 'devotee.n.01', 'disobeyer.n.01', 'affectionate.a.01', 'progenitor.n.01', 'deceptive.n.01', 'mutationist.n.01', 'manipulationist.n.01', 'retributionist.n.01', 'subjugator.n.01', 'concealer.n.01', 'denier.n.01', 'reconciler.n.01', 'deteriorator.n.01', 'regenerator.n.01', 'suppressor.n.01', 'disrupter.n.01', 'incursionist.n.01', 'invasionist.n.01', 'disintegrator.n.01', 'manipulator.n.01', 'infringer.n.01', 'manipulative.a.01', 'suppressor.n.01', 'concealer.n.01', 'denier.n.01', 'regenerator.n.01', 'disrupter.n.01', 'invasionist.n.01', 'infiltrator.n.01', 'deceiver.n.01', 'suffocator.n.01', 'intimidator.n.01', 'mutator.n.01', 'devotee.n.01', 'disobeyer.n.01', 'affectionate.a.01', 'progenitor.n.01', 'deceptive.n.01', 'mutationist.n.01', 'manipulationist.n.01', 'retributionist.n.01', 'subjugator.n.01', 'concealer.n.01', 'denier.n.01', 'reconciler.n.01', 'deteriorator.n.01', 'regenerator.n.01', 'suppressor.n.01', 'disrupter.n.01', 'incursionist.n.01', 'invasionist.n.01', 'disintegrator.n.01', 'manipulator.n.01', 'infringer.n.01', 'manipulative.a.01', 'suppressor.n.01', 'concealer.n.01', 'denier.n.01', 'regenerator.n.01', 'disrupter.n.01', 'invasionist.n.01', 'infiltrator.n.01', 'deceiver.n.01', 'suffocator.n.01', 'intimidator.n.01', 'mutator.n.01', 'devotee.n.01', 'disobeyer.n.01', 'affectionate.a.01', 'progenitor.n.01', 'deceptive.n.01', 'mutationist.n.01', 'manipulationist.n.01', 'retributionist.n.01', 'subjugator.n.01', 'concealer.n.01', 'denier.n.01', 'reconciler.n.01', 'deteriorator.n.01', 'regenerator.n.01', 'suppressor.n.01', 'disrupter.n.01', 'incursionist.n.01', 'invasionist.n.01', 'disintegrator.n.01', 'manipulator.n.01', 'infringer.n.01', 'manipulative.a.01', 'suppressor.n.01', 'concealer.n.01', 'denier.n.01', 'regenerator.n.01', 'disrupter.n.01', 'invasionist.n.01', 'infiltrator.n.01', 'deceiver.n.01', 'suffocator.n.01', 'intimidator.n.01', 'mutator.n.01', 'devotee.n.01', 'disobeyer.n.01', 'affectionate.a.01', 'progenitor.n.01', 'deceptive.n.01', 'mutationist.n.01', 'manipulationist.n.01', 'retributionist.n.01', 'subjugator.n.01', 'concealer.n.01', 'denier.n.01', 'reconciler.n.01', 'deteriorator.n.01', 'regenerator.n.01', 'suppressor.n.01', 'disrupter.n.01', 'incursionist.n.01', 'invasionist.n.01', 'disintegrator.n.01', 'manipulator.n.01', 'infringer.n.01', 'manipulative.a.01', 'suppressor.n.01', 'concealer.n.01', 'denier.n.01', 'regenerator.n.01', 'disrupter.n.01', 'invasionist.n.01', 'infiltrator.n.01', 'deceiver.n.01', 'suffocator.n.01', 'intimidator.n.01', 'mutator.n.01', 'devotee.n.01', 'disobeyer.n.01', 'affectionate.a.01', 'progenitor.n.01', 'deceptive.n.01', 'mutationist.n.01', 'manipulationist.n.01', 'retributionist.n.01', 'subjugator.n.01', 'concealer.n.01', 'denier.n.01', 'reconciler.n.01', 'deteriorator.n.01', 'regenerator.n.01', 'suppressor.n.01', 'disrupter.n.01', 'incursionist.n.01', 'invasionist.n.01', 'disintegrator.n.01', 'manipulator.n.01', 'infringer.n.01', 'manipulative.a.01', 'suppressor.n.01', 'concealer.n.01', 'denier.n.01', 'regenerator.n.01', 'disrupter.n.01', 'invasionist.n.01', 'infiltrator.n.01', 'deceiver.n.01', 'suffocator.n.01', 'intimidator.n.01', 'mutator.n.01', 'devotee.n.01', 'disobeyer.n.01', 'affectionate.a.01', 'progenitor.n.01', 'deceptive.n.01', 'mutationist.n.01', 'manipulationist.n.01', 'retributionist.n.01', 'subjugator.n.01', 'concealer.n.01', 'denier.n.01', 'reconciler.n.01', 'deter\",\n",
       " \"missing entities: ['visit.n.01', 'uranyl.n.01', 'horripilate.v.01', 'flicker.n.01', 'closed_chain.n.01', 'iodine.n.01', 'naloxone.n.01', 'cultivate.v.02', 'marksmanship.n.01', 'mollusca.n.01', 'day.n.01', 'broadcast.n.02', 'fire.v.06', 'child.n.03', 'brooding.n.01', 'man.n.01', 'set.n.07', 'capsule.v.01', 'swab.v.01', 'excite.v.07', 'orchidaceae.n.01', 'relief.n.05', 'encelia.n.01', 'burial_chamber.n.01', 'garnish.n.02', 'harp.v.02', 'gangsta.n.01', 'transfer.v.04', 'gather.n.01', 'test.v.01', 'spain.n.01', 'mantis.n.01', 'dish.n.02', 'parade.n.03', 'assassin.n.01', 'golf-club_head.n.01', 'emanate.v.01', 'cypriniformes.n.01', 'central_america.n.01', 'carry.v.24', 'united_kingdom.n.01', 'taichung.n.01', 'sass.n.01', 'grey_matter.n.01', 'separate.v.05', 'trump_up.v.01', 'uncreative.a.01', 'eliminate.v.03', 'intersperse.v.02', 'net.n.04']\",\n",
       " \"missing entities: ['master.n.07', 'hobbyist.n.01', 'peach.n.03', 'frown.v.01', 'welsh.n.02', 'technology_administration.n.01', 'clinton.n.02', 'settler.n.01', 'dicker.v.01', 'activate.v.02', 'vermont.n.01', 'genipap_fruit.n.01', 'manteodea.n.01', 'clean.a.01', 'scorpaenidae.n.01', 'shift.v.05', 'guest.n.01', 'cycle_of_rebirth.n.01', 'control.v.02', 'amberboa.n.01', 'veto.v.01', 'shun.v.01', 'lieutenancy.n.01', 'concentrate.v.02', 'rape.n.01', 'south_carolina.n.02', 'sculpt.v.02', 'batter.n.01', 'retardation.n.02', 'natural_gas.n.01', 'cuddle.v.01', 'cry.n.02', 'getaway.n.02', 'autopsy.v.01', 'laud.v.01', 'seal.n.02', 'lieutenant_colonel.n.01', 'bender.n.01', 'awl.n.01', 'urinary.a.01', 'hamstring.v.01', 'ballot.v.01', 'satisfactory.a.01', 'actaea.n.01', 'geraniaceae.n.01', 'macromolecule.n.01', 'hyphantria.n.01', 'restriction.n.01', 'holly-leaved_cherry.n.01', 'deviation.n.02']\",\n",
       " \"missing entities: ['stonewaller.n.01', 'attend.v.05', 'fort_worth.n.01', 'neritidae.n.01', 'subscribe.v.03', 'contrast.v.01', 'filling.n.05', 'ischium.n.01', 'traffic.v.02', 'warwick.n.01', 'yawn.n.01', 'rudder.n.02', 'leftism.n.01', 'iconoclast.n.01', 'backsliding.n.01', 'signer.n.01', 'atlantic_city.n.01', 'aphrodisiac.a.01', 'libel.n.01', 'brace.n.01', 'electrocution.n.01', 'salvinia.n.01', 'sparrow.n.01', 'alkali.n.02', 'accentor.n.01', 'togs.n.01', 'germany.n.01', 'cottus.n.01', 'misgive.v.01', 'trematoda.n.01', 'savior.n.02', 'transmit.v.04', 'grocery_store.n.01', 'piciform_bird.n.01']\"]"
      ]
     },
     "execution_count": 95,
     "metadata": {},
     "output_type": "execute_result"
    }
   ],
   "source": [
    "generated_entities2"
   ]
  },
  {
   "cell_type": "markdown",
   "metadata": {},
   "source": [
    "## Process result"
   ]
  },
  {
   "cell_type": "code",
   "execution_count": 101,
   "metadata": {},
   "outputs": [],
   "source": [
    "results = []\n",
    "for i, ge in enumerate(generated_entities2):\n",
    "    # Extract the array from the text\n",
    "    start_index = ge.find(\"[\")\n",
    "    end_index = ge.find(\"]\")\n",
    "    array_str = ge[start_index:end_index+1]\n",
    "    if end_index == -1:\n",
    "        array_str = '[]'\n",
    "    # Convert the string representation of the array to a Python list\n",
    "    array = ast.literal_eval(array_str)\n",
    "\n",
    "    # Append the extracted array\n",
    "    results.append(array)"
   ]
  },
  {
   "cell_type": "code",
   "execution_count": 103,
   "metadata": {},
   "outputs": [
    {
     "data": {
      "text/plain": [
       "(63, 63)"
      ]
     },
     "execution_count": 103,
     "metadata": {},
     "output_type": "execute_result"
    }
   ],
   "source": [
    "len(results), len(triplet_batches)"
   ]
  }
 ],
 "metadata": {
  "kernelspec": {
   "display_name": "prompt_engineering",
   "language": "python",
   "name": "python3"
  },
  "language_info": {
   "codemirror_mode": {
    "name": "ipython",
    "version": 3
   },
   "file_extension": ".py",
   "mimetype": "text/x-python",
   "name": "python",
   "nbconvert_exporter": "python",
   "pygments_lexer": "ipython3",
   "version": "3.9.18"
  }
 },
 "nbformat": 4,
 "nbformat_minor": 2
}
